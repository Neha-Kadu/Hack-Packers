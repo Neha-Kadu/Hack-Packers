{
 "cells": [
  {
   "cell_type": "markdown",
   "id": "d68229d4",
   "metadata": {},
   "source": [
    "Q 32. Write a function to print the multipication table of the given number."
   ]
  },
  {
   "cell_type": "code",
   "execution_count": 1,
   "id": "ea05aa3f",
   "metadata": {},
   "outputs": [
    {
     "name": "stdout",
     "output_type": "stream",
     "text": [
      "Print the multiplication table of? 4\n",
      "4 x 1 = 4\n",
      "4 x 2 = 8\n",
      "4 x 3 = 12\n",
      "4 x 4 = 16\n",
      "4 x 5 = 20\n",
      "4 x 6 = 24\n",
      "4 x 7 = 28\n",
      "4 x 8 = 32\n",
      "4 x 9 = 36\n",
      "4 x 10 = 40\n"
     ]
    }
   ],
   "source": [
    "num = int(input(\"Print the multiplication table of? \"))\n",
    "for i in range(1, 11):\n",
    "   print(num, 'x', i, '=', num*i)"
   ]
  },
  {
   "cell_type": "markdown",
   "id": "786afb73",
   "metadata": {},
   "source": [
    "Q 37. Write a function to print all the upper case letter of a given sentence."
   ]
  },
  {
   "cell_type": "code",
   "execution_count": 2,
   "id": "3623be35",
   "metadata": {},
   "outputs": [
    {
     "name": "stdout",
     "output_type": "stream",
     "text": [
      "PRINT THE UPPERCASE LETTERS OF A SENTENCE.\n"
     ]
    }
   ],
   "source": [
    "string = \"print the uppercase letters of a sentence.\"\n",
    "a = string.upper()\n",
    "print(a)"
   ]
  },
  {
   "cell_type": "markdown",
   "id": "f910586d",
   "metadata": {},
   "source": [
    "Q 23. write a function to find the center element in the list. (one element in odd length list,  two elements in even length list). "
   ]
  },
  {
   "cell_type": "code",
   "execution_count": 17,
   "id": "5154a238",
   "metadata": {},
   "outputs": [
    {
     "name": "stdout",
     "output_type": "stream",
     "text": [
      "3\n"
     ]
    }
   ],
   "source": [
    "list = [1, 2, 3, 4, 5] # list with odd numbers\n",
    "\n",
    "middle = int(len(list) / 2)\n",
    "print(list[middle])"
   ]
  },
  {
   "cell_type": "code",
   "execution_count": 18,
   "id": "6f790537",
   "metadata": {},
   "outputs": [
    {
     "name": "stdout",
     "output_type": "stream",
     "text": [
      "3\n",
      "4\n"
     ]
    }
   ],
   "source": [
    "list = [1, 2, 3, 4, 5, 6] # list with even numbers.\n",
    "first_middle = int(len(list) / 2) - 1\n",
    "second_middle = int(len(list) / 2)    \n",
    "\n",
    "print(list[first_middle])\n",
    "print(list[second_middle])\n"
   ]
  },
  {
   "cell_type": "markdown",
   "id": "65c6ffbe",
   "metadata": {},
   "source": [
    "Q 34. np.arange(1,31).reshape(6,5) Find the array slicing to get the elements with values 11,12,16,17."
   ]
  },
  {
   "cell_type": "code",
   "execution_count": 19,
   "id": "bfc3d534",
   "metadata": {},
   "outputs": [
    {
     "name": "stdout",
     "output_type": "stream",
     "text": [
      "Original arrays:\n",
      "[[ 1  2  3  4  5]\n",
      " [ 6  7  8  9 10]\n",
      " [11 12 13 14 15]\n",
      " [16 17 18 19 20]\n",
      " [21 22 23 24 25]\n",
      " [26 27 28 29 30]]\n",
      "Sliced elements:\n",
      "[11 12 16 17]\n"
     ]
    }
   ],
   "source": [
    "import numpy as np    \n",
    "x = np.reshape(np.arange(1,31),(6,5))\n",
    "print(\"Original arrays:\")\n",
    "print(x)\n",
    "print(\"Sliced elements:\")\n",
    "result = x[[2,2,3,3],[0,1,0,1]]\n",
    "print(result)"
   ]
  },
  {
   "cell_type": "markdown",
   "id": "e3d505c7",
   "metadata": {},
   "source": [
    "Q 35. np.arange(1,31).reshape(6,5), find array slicing for elements 2,8,14,20."
   ]
  },
  {
   "cell_type": "code",
   "execution_count": 20,
   "id": "b9200a62",
   "metadata": {},
   "outputs": [
    {
     "name": "stdout",
     "output_type": "stream",
     "text": [
      "Original arrays:\n",
      "[[ 1  2  3  4  5]\n",
      " [ 6  7  8  9 10]\n",
      " [11 12 13 14 15]\n",
      " [16 17 18 19 20]\n",
      " [21 22 23 24 25]\n",
      " [26 27 28 29 30]]\n",
      "Sliced elements:\n",
      "[ 2  8 14 20]\n"
     ]
    }
   ],
   "source": [
    "import numpy as np    \n",
    "x = np.reshape(np.arange(1,31),(6,5))\n",
    "print(\"Original arrays:\")\n",
    "print(x)\n",
    "print(\"Sliced elements:\")\n",
    "result = x[[0,1,2,3],[1,2,3,4]]\n",
    "print(result)"
   ]
  },
  {
   "cell_type": "markdown",
   "id": "26b14e46",
   "metadata": {},
   "source": [
    "Q 31. Find the count of White Spanish Male."
   ]
  },
  {
   "cell_type": "code",
   "execution_count": 21,
   "id": "5dd64edb",
   "metadata": {},
   "outputs": [
    {
     "name": "stdout",
     "output_type": "stream",
     "text": [
      "15\n"
     ]
    }
   ],
   "source": [
    "import pandas as pd\n",
    "df=pd.read_excel('HospitalDatabase.xlsx', 'Patients')\n",
    "s_bool_and = ((df['Language'] == 'Spanish') & (df['Gender'] == 'Male') & (df['Race'] == 'White'))\n",
    "print(s_bool_and.sum())"
   ]
  },
  {
   "cell_type": "markdown",
   "id": "01329320",
   "metadata": {},
   "source": [
    "Q 26. Using arrays and loops, find the count of patients based on gender."
   ]
  },
  {
   "cell_type": "code",
   "execution_count": 22,
   "id": "431b30b4",
   "metadata": {},
   "outputs": [
    {
     "data": {
      "text/plain": [
       "Male      537\n",
       "Female    408\n",
       "Name: Gender, dtype: int64"
      ]
     },
     "execution_count": 22,
     "metadata": {},
     "output_type": "execute_result"
    }
   ],
   "source": [
    "import pandas as pd\n",
    "df=pd.read_excel('HospitalDatabase.xlsx', 'Patients')\n",
    "df['Gender'].value_counts(ascending=False)"
   ]
  },
  {
   "cell_type": "markdown",
   "id": "4da46b1f",
   "metadata": {},
   "source": [
    "Q 25.  Plot a graph by counting the no. of patients in each department."
   ]
  },
  {
   "cell_type": "code",
   "execution_count": 23,
   "id": "cd1c3d05",
   "metadata": {},
   "outputs": [
    {
     "data": {
      "image/png": "[encoded data removed]",
      "text/plain": [
       "<Figure size 432x288 with 1 Axes>"
      ]
     },
     "metadata": {
      "needs_background": "light"
     },
     "output_type": "display_data"
    }
   ],
   "source": [
    "import pandas as pd\n",
    "df=pd.read_excel('HospitalDatabase.xlsx', 'Discharges')\n",
    "df['Service'].value_counts().plot(kind='bar');"
   ]
  },
  {
   "cell_type": "markdown",
   "id": "468a917f",
   "metadata": {},
   "source": [
    "Q 27. Plot a graph to count the patients based on discharge disposition."
   ]
  },
  {
   "cell_type": "code",
   "execution_count": 24,
   "id": "91c292c3",
   "metadata": {},
   "outputs": [
    {
     "data": {
      "image/png": "[encoded data removed]",
      "text/plain": [
       "<Figure size 432x288 with 1 Axes>"
      ]
     },
     "metadata": {
      "needs_background": "light"
     },
     "output_type": "display_data"
    }
   ],
   "source": [
    "import pandas as pd\n",
    "df=pd.read_excel('HospitalDatabase.xlsx', 'Discharges')\n",
    "df['DischargeDisposition'].value_counts().plot(kind='bar');"
   ]
  },
  {
   "cell_type": "markdown",
   "id": "29bd0d3e",
   "metadata": {},
   "source": [
    "Q 40. Plot a graph showing the count of patients for the reason visited the hospotal."
   ]
  },
  {
   "cell_type": "code",
   "execution_count": 26,
   "id": "48449d17",
   "metadata": {},
   "outputs": [
    {
     "data": {
      "image/png": "[encoded data removed]",
      "text/plain": [
       "<Figure size 432x288 with 1 Axes>"
      ]
     },
     "metadata": {
      "needs_background": "light"
     },
     "output_type": "display_data"
    }
   ],
   "source": [
    "import pandas as pd\n",
    "df=pd.read_excel('HospitalDatabase.xlsx', 'EDVisits')\n",
    "df['ReasonForVisit'].value_counts().plot(kind='bar');"
   ]
  },
  {
   "cell_type": "markdown",
   "id": "58ee919d",
   "metadata": {},
   "source": [
    "Q 22. # Create a dataframe with acuity and EDDisposition as the indices and the count of number of patients as the value."
   ]
  },
  {
   "cell_type": "code",
   "execution_count": 27,
   "id": "89335a15",
   "metadata": {},
   "outputs": [
    {
     "data": {
      "text/html": [
       "<div>\n",
       "<style scoped>\n",
       "    .dataframe tbody tr th:only-of-type {\n",
       "        vertical-align: middle;\n",
       "    }\n",
       "\n",
       "    .dataframe tbody tr th {\n",
       "        vertical-align: top;\n",
       "    }\n",
       "\n",
       "    .dataframe thead th {\n",
       "        text-align: right;\n",
       "    }\n",
       "</style>\n",
       "<table border=\"1\" class=\"dataframe\">\n",
       "  <thead>\n",
       "    <tr style=\"text-align: right;\">\n",
       "      <th></th>\n",
       "      <th>EDDisposition</th>\n",
       "      <th>Acuity</th>\n",
       "      <th>index</th>\n",
       "    </tr>\n",
       "  </thead>\n",
       "  <tbody>\n",
       "    <tr>\n",
       "      <th>0</th>\n",
       "      <td>Admitted</td>\n",
       "      <td>1</td>\n",
       "      <td>32</td>\n",
       "    </tr>\n",
       "    <tr>\n",
       "      <th>1</th>\n",
       "      <td>Admitted</td>\n",
       "      <td>2</td>\n",
       "      <td>116</td>\n",
       "    </tr>\n",
       "    <tr>\n",
       "      <th>2</th>\n",
       "      <td>Admitted</td>\n",
       "      <td>3</td>\n",
       "      <td>81</td>\n",
       "    </tr>\n",
       "    <tr>\n",
       "      <th>3</th>\n",
       "      <td>Admitted</td>\n",
       "      <td>4</td>\n",
       "      <td>107</td>\n",
       "    </tr>\n",
       "    <tr>\n",
       "      <th>4</th>\n",
       "      <td>Admitted</td>\n",
       "      <td>5</td>\n",
       "      <td>179</td>\n",
       "    </tr>\n",
       "    <tr>\n",
       "      <th>5</th>\n",
       "      <td>Discharged</td>\n",
       "      <td>1</td>\n",
       "      <td>558</td>\n",
       "    </tr>\n",
       "    <tr>\n",
       "      <th>6</th>\n",
       "      <td>Discharged</td>\n",
       "      <td>2</td>\n",
       "      <td>66</td>\n",
       "    </tr>\n",
       "    <tr>\n",
       "      <th>7</th>\n",
       "      <td>Discharged</td>\n",
       "      <td>4</td>\n",
       "      <td>30</td>\n",
       "    </tr>\n",
       "    <tr>\n",
       "      <th>8</th>\n",
       "      <td>Discharged</td>\n",
       "      <td>5</td>\n",
       "      <td>30</td>\n",
       "    </tr>\n",
       "  </tbody>\n",
       "</table>\n",
       "</div>"
      ],
      "text/plain": [
       "  EDDisposition  Acuity  index\n",
       "0      Admitted       1     32\n",
       "1      Admitted       2    116\n",
       "2      Admitted       3     81\n",
       "3      Admitted       4    107\n",
       "4      Admitted       5    179\n",
       "5    Discharged       1    558\n",
       "6    Discharged       2     66\n",
       "7    Discharged       4     30\n",
       "8    Discharged       5     30"
      ]
     },
     "execution_count": 27,
     "metadata": {},
     "output_type": "execute_result"
    }
   ],
   "source": [
    "import pandas as pd\n",
    "df=pd.read_excel('HospitalDatabase.xlsx', 'EDVisits')\n",
    "df = pd.DataFrame(df, columns=['EDDisposition','Acuity'])\n",
    "df.reset_index().groupby( [ \"EDDisposition\", \"Acuity\"],as_index=False ).count()"
   ]
  },
  {
   "cell_type": "code",
   "execution_count": null,
   "id": "826f36cd",
   "metadata": {},
   "outputs": [],
   "source": []
  }
 ],
 "metadata": {
  "kernelspec": {
   "display_name": "Python 3 (ipykernel)",
   "language": "python",
   "name": "python3"
  },
  "language_info": {
   "codemirror_mode": {
    "name": "ipython",
    "version": 3
   },
   "file_extension": ".py",
   "mimetype": "text/x-python",
   "name": "python",
   "nbconvert_exporter": "python",
   "pygments_lexer": "ipython3",
   "version": "3.9.12"
  }
 },
 "nbformat": 4,
 "nbformat_minor": 5
}
